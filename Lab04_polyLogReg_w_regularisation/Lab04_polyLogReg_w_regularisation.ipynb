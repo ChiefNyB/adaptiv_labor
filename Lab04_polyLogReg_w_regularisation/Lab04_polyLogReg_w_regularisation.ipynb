{
  "cells": [
    {
      "cell_type": "markdown",
      "metadata": {
        "id": "dYLhrQMRIr4h"
      },
      "source": [
        "# 4. Labor: Polinomiális Logisztikus regresszió Regularizációval\n",
        "\n",
        "A gyakorlat során megvizsgáljuk hogyan tudunk nem lineárisan elhatárolt csoportok közötti kalsszifikációt elvégezni a polynomiális regressziós segítségével, illetve hogyan tudjuk a modellünk súlyait kézben tartani az L1 és L2 regularizáció segítsévél."
      ]
    },
    {
      "cell_type": "markdown",
      "metadata": {
        "id": "ZyVMlUtvIr4n"
      },
      "source": [
        "### Születés utáni komplikáció\n",
        "\n",
        "A gyakorlathoz tartozó adatsor 1000+ születés esetén tartalmazza a terhesség teljes hosszát napokban, illetve a születéskori testsúlyt kilogrammban. A célunk az lesz, hogy modellezzük ezek alapján mekkora az esély arra, hogy a baba fejlődésének korai szakaszában komplikációk lépnek fel."
      ]
    },
    {
      "attachments": {},
      "cell_type": "markdown",
      "metadata": {
        "id": "beE_CxAeIr4p"
      },
      "source": [
        "## Alultanulás (underfitting)\n",
        "\n",
        "Az előző gyakorlat során alkalmazott Logisztikus regresszió alapjául egy lineáris modellt használtunk. Bár a teljes modellt nevezhetjük nem linárisnak a _sigmoid_ függvény bevezetése miatt, a meghatározott döntési határ (_decision boundary_) a lineáris alap miatt egy egyenes volt. Bár ezzel viszonylag jól tudtuk modellezni az eredményeket, látható volt, hogy egy megfelelő görbe jobb eredményeket tudott volna adni. Hasonló megfontolásokat tehetünk egy szimpla regressziós feladat esetében is.\n",
        "\n",
        "\n",
        "<center><img src=\"img/linear_vs_poly.svg\" width=\"1200\"></center>\n",
        "<!--<center><img src=\"https://drive.google.com/uc?export=view&id=1RoiKcoYZ9CM5XODbPFp30oY74le1LDy8\" width=\"1200\"></center>-->\n",
        "\n",
        "Amennyiben a modellünk nem elég komplex, hogy az adatok által leírt összefüggéseket modellezze, a kapott végeredmény a valóság egy leegyszerűsített, nem olyan pontos modellje lesz (lineáris döntési határ görbe helyett), a modellünk alultanult. A felhasználásunktól függően ez lehet, hogy megfelel a célnak, de lesznek olyan esetek, amikor szükségünk lesz a bonyolultabb modell bevezetésére."
      ]
    },
    {
      "cell_type": "markdown",
      "metadata": {
        "id": "d6GSyr2GIr4q"
      },
      "source": [
        "## Polinomiális regresszió\n",
        "\n",
        "Ahhoz hogy a modellünk képes legyen görbe jellegű döntéshatárokat meghatározni, az alapul szolgáló lineáris illesztés helyett magasabb rendű, u.n. polinomiális regressziót kell alkalmaznunk.\n",
        "\n",
        "Lineáris regresszió két változóra:\n",
        "$$\\hat{y} = w_0 + w_1 x_1 + w_2 x_2$$\n",
        "\n",
        "Polinomiális regresszió két változóra harmadrendű polinommal:\n",
        "$$\\hat{y} = w_0 + w_1 x_1 + w_2 x_2 + w_3 x_1^2 + w_4 x_1 x_2 + w_5 x_2 ^2 + w_6 x_1^3 + w_7 x_1^2 x_2 + w_8 x_1 x_2^2 + w_9 x_2^3$$\n",
        "\n",
        "A modellillesztés szempontjából azonban tekinthetünk a bemenetek magasabb rendű kombinációjára úgy, mintha új, független változók lennének:\n",
        "$$\\hat{y} = w_0 + w_1 x_1 + w_2 x_2 + w_3 x_3 + w_4 x_4 + w_5 x_5 +\\dots + w_9 x_9$$\n",
        "ahol\n",
        "$$x_3 = x_1^2; \\quad x_4 = x_1 x_2; \\quad x_5 = x_2^2; \\quad x_6 = x_1^3; \\quad x_7 = x_1^2 x_2; \\quad x_8 = x_1 x_2^2; \\quad x_9 = x_2^3$$\n",
        "\n",
        "Az új változók definiálásával egy kétváltozós harmadrendű modell illesztésének folyamata teljesen megegyezik egy kilenc változós ténylegesen lineáris regresszió illesztésével, az eltérés csupán az értelmezésben van. A bemeneti adatpontokat 2D-ben tudjuk ábrázolni, nem kell 9 különböző dimenziót használni, az illesztett modellt pedig értelmezhető egy két változó feletti harmadrendű polinomként egy 9 dimenziós síkfelület helyett."
      ]
    },
    {
      "attachments": {},
      "cell_type": "markdown",
      "metadata": {
        "id": "0hp5nRiqIr4s"
      },
      "source": [
        "## Túltanulás (overfitting)\n",
        "\n",
        "A bonyolultabb modell bevezetésével megjelenik annak a veszélye, hogy a modell túltanul, az adatok mögötti összefüggés helyett a konkrét adatpontokat tanulja meg. Így a tanítóadatokon való értékelés esetén azt látjuk, hogy nagyon jól teljesít a modell, azonban további, a tanításhoz nem használt adatokon szignifikánsan rosszabb a teljesítménye, elveszíti az általánosító képességét. A gépi tanulással megoldott problémák során cél mindig a bemenetek és kimenetek közötti összefüggés betanítása, nem a konkrét adatpontok megtanulása. Bár a polinomiális logisztikus regresszió nem valószínű, hogy az ábrán látható mérétkben túltanulást fog mutatni, bonyolultabb, több nemlinearitást tartalmazó modellek (neurális hálók) esetében ez egy valós probléma lehet.\n",
        "\n",
        "<center><img src=\"img/overfit.svg\" width=\"1200\"></center>\n",
        "<!--<center><img src=\"https://drive.google.com/uc?export=view&id=1_q4JQ7N0uL8AdBIiT11K8ConQykic7co\" width=\"1200\"></center>-->\n"
      ]
    },
    {
      "attachments": {},
      "cell_type": "markdown",
      "metadata": {
        "id": "0p6gIjEOIr4t"
      },
      "source": [
        "## Regularizáció\n",
        "\n",
        "Az eddigiekben a költségfüggvényt egy szempont alapján határoztuk meg: a modellünk a lehető legpontosabban kövesse az illesztésre használt adatokat. Azonban lehetőségünk van a költségfüggvényben a pontos illesztés mellett más szempontokat is figyelembe vennünk, amivel a végleges súlyok jellegét befolyásolhatjuk. Ezt a módszert **regularizációnak** nevezzük. A regularizáció használatakor a modell illesztésének jóságát mérő tag mellett egy regularizációs, vagyis büntető (_penalty_) taggal egészítjük ki a teljes költségfüggvényt. Egy két osztályból álló klasszifikáció esetén a költségfüggvény általános alakja:\n",
        "$$C(\\mathbf{W}) = C_{BCE}(\\mathbf{W}) + \\lambda P(\\mathbf{W})$$\n",
        "ahol $C_{BCE}(w)$ a már előző gyakorlatról ismert Binary CrossEntropy költségfüggvény, $P(\\mathbf{W})$ a regularizációból származó büntető tag, $\\lambda$ pedig a büntető tag súlyozására használt paraméter.\n",
        "\n",
        "A költségfüggvény változásával a tanulás során használt gradiensvektor is változik.  Az összegfüggvény deriválási szabálya alapján\n",
        "$$\\nabla C (\\mathbf{W}) = \\nabla C_{BCE}(\\mathbf{W}) + \\lambda \\nabla P(\\mathbf{W})$$\n",
        "Így a regularizáció hasnzálatakor nincs más teendő, mint az eddigiekben számolt gradiens mellé a megfelelő büntető tag gradiensét hozzáadni, illetve a büntetés mértékét a $\\lambda$ paraméter segítségével beállítani. \n",
        "\n",
        "Az egyes regularizációs módszerek segítenek a modell túltanulását elkerülni, a modelleket a lehető legegyszerűbb vagy legáltalánosabb forma felé irányítani. A bias taghoz tartozó súlyt a feladattól függően nem mindig vetjük alá regularizációnak. A gyakorlat során kétféle regularizációs módszert nézünk meg.\n",
        "\n",
        "### L1 regularizáció (Lasso regularizáció)\n",
        "\n",
        "L1 regularizáció esetén a büntető tag a súlyok abszolút értékének összege:\n",
        "$$P_{L1}(\\mathbf{W}) = \\sum_{i=1}^n |w_i|$$\n",
        "\n",
        "A Lasso regularizáció így arra törekszik, hogy jó modellillesztés mellett a súlyok egyenként a lehető legkisebbek legyenek. Azok a súlyok, amelyek csak kis mértékben járulnak hozzá a modell jóságához a nullához fognak közelíteni. Az L1 regularizáció segíségével így a modell dimenziója 'csökkenthető', a nem releváns bemeneti paraméterek a meghatározott közel zérus súlyok alapján elhagyhatók. A végső illesztés esetében csak azok a súlyok maradnak fenn, amelyek szignifikánsan hozzájárulnak a kimenő változó magyarázásához. A modellünket így egyszerűsíthetjük, a modellillesztés mellet dimenzióredukciót is végzünk.\n",
        "\n",
        "Az L1 regularizáció esetén a gradiensvektor kiegészítő tagja az egyes súlyok szignuma:\n",
        "$$ \\nabla P_{L1}(\\mathbf{W}) = sgn(\\mathbf{W})$$\n",
        "Ez alapján könnyen látható, hogy minden súlyt azok nagyságától függetlenül a 0 felé igyekszik eltolni.\n",
        "\n",
        "### L2 regularizáció (Ridge regularizáció)\n",
        "\n",
        "L1 regularizáció esetén a büntető tag a súlyok négyzetének összege (az $\\frac{1}{2}$-es szorzó csak a szebb gradiens céljából van jelen):\n",
        "$$ P_{L2}(\\mathbf{W}) = \\frac{1}{2}\\sum_{i=1}^n w_i^2 $$\n",
        "\n",
        "A Ridge regularizáció így arra törekszik, hogy jó modellillesztés mellett kerülje a nagy súlyok használatát. A négyzetre emelés miatt a kissebb közeli súlyokat nem bünteti annyira, a nagyobb súlyokat viszont jelentősen jobban bünteti mint az L1 regularizáció. Az optimlizáció igy igyekszik eggyik bemenetre sem túlságosan támaszkodni. Ezzel növelhető a modell robosztussága és általánosító képessége.\n",
        "\n",
        "Az L2 regularizáció esetén a gradiensvektor keigészítő tagjai maguk a súlyok:\n",
        "$$ \\nabla P_{L2}(\\mathbf{W}) = \\mathbf{W}$$\n",
        "Látható, hogy ebben az esetben a regularizáció a súly nagyságával arányosan bünteti azt, azaz a nagyobb súlyra nagyobb a büntetés, kis súly esetén azonban nem szignifikáns. Az együttes hatás így, hogy minden súlyt igyekszik kis értéken tartani."
      ]
    },
    {
      "cell_type": "markdown",
      "metadata": {
        "id": "DMKWtTBhIr4v"
      },
      "source": [
        "## 00: Könyvtár importálások\n",
        "\n",
        "Első lépésként importáljuk a feladat megoldása során használt könyvtárakat. Esetünkben ezek a következők lesznek:\n",
        "- Numpy a matematikia műveletek elvégzéséhez\n",
        "- Pandas az adatok beolvasásához és kezeléséhez\n",
        "- MatPlotLib.pyplot az eredményeink ábrázolásához\n",
        "- Plotly Express interaktív vizualizációhoz"
      ]
    },
    {
      "cell_type": "code",
      "execution_count": 3,
      "metadata": {
        "id": "qTFhfOdVIr4w"
      },
      "outputs": [],
      "source": [
        "import numpy as np\n",
        "import pandas as pd\n",
        "import matplotlib.pyplot as plt\n",
        "import plotly.graph_objects as go\n",
        "\n",
        "# Használjuk ezeket sötét téma esetén\n",
        "plt.style.use('dark_background')\n",
        "styleTemplate = 'plotly_dark'\n",
        "\n",
        "# Használjuk ezeket világos téma esetén\n",
        "#plt.style.use('default')\n",
        "#styleTemplate = 'plotly_white'"
      ]
    },
    {
      "cell_type": "markdown",
      "metadata": {
        "id": "M7nS2azyIr4z"
      },
      "source": [
        "## 01: Adatbeolvasás\n",
        "Olvassuk be a szükséges adatokat az ```birthData.txt``` fájlból."
      ]
    },
    {
      "cell_type": "code",
      "execution_count": 4,
      "metadata": {
        "colab": {
          "base_uri": "https://localhost:8080/",
          "height": 363
        },
        "id": "uX9bjPDhIr40",
        "outputId": "92bfdb69-b685-494f-a0eb-9262457d1576"
      },
      "outputs": [
        {
          "data": {
            "text/html": [
              "<div>\n",
              "<style scoped>\n",
              "    .dataframe tbody tr th:only-of-type {\n",
              "        vertical-align: middle;\n",
              "    }\n",
              "\n",
              "    .dataframe tbody tr th {\n",
              "        vertical-align: top;\n",
              "    }\n",
              "\n",
              "    .dataframe thead th {\n",
              "        text-align: right;\n",
              "    }\n",
              "</style>\n",
              "<table border=\"1\" class=\"dataframe\">\n",
              "  <thead>\n",
              "    <tr style=\"text-align: right;\">\n",
              "      <th></th>\n",
              "      <th>gestation</th>\n",
              "      <th>birthweight</th>\n",
              "      <th>complication</th>\n",
              "    </tr>\n",
              "  </thead>\n",
              "  <tbody>\n",
              "    <tr>\n",
              "      <th>0</th>\n",
              "      <td>283</td>\n",
              "      <td>3.883884</td>\n",
              "      <td>0</td>\n",
              "    </tr>\n",
              "    <tr>\n",
              "      <th>1</th>\n",
              "      <td>248</td>\n",
              "      <td>4.082331</td>\n",
              "      <td>0</td>\n",
              "    </tr>\n",
              "    <tr>\n",
              "      <th>2</th>\n",
              "      <td>275</td>\n",
              "      <td>3.175146</td>\n",
              "      <td>0</td>\n",
              "    </tr>\n",
              "    <tr>\n",
              "      <th>3</th>\n",
              "      <td>270</td>\n",
              "      <td>1.563774</td>\n",
              "      <td>1</td>\n",
              "    </tr>\n",
              "    <tr>\n",
              "      <th>4</th>\n",
              "      <td>251</td>\n",
              "      <td>3.968933</td>\n",
              "      <td>0</td>\n",
              "    </tr>\n",
              "    <tr>\n",
              "      <th>5</th>\n",
              "      <td>283</td>\n",
              "      <td>3.061748</td>\n",
              "      <td>0</td>\n",
              "    </tr>\n",
              "    <tr>\n",
              "      <th>6</th>\n",
              "      <td>283</td>\n",
              "      <td>3.628739</td>\n",
              "      <td>0</td>\n",
              "    </tr>\n",
              "    <tr>\n",
              "      <th>7</th>\n",
              "      <td>278</td>\n",
              "      <td>3.260195</td>\n",
              "      <td>0</td>\n",
              "    </tr>\n",
              "    <tr>\n",
              "      <th>8</th>\n",
              "      <td>281</td>\n",
              "      <td>3.997282</td>\n",
              "      <td>0</td>\n",
              "    </tr>\n",
              "    <tr>\n",
              "      <th>9</th>\n",
              "      <td>273</td>\n",
              "      <td>2.920001</td>\n",
              "      <td>0</td>\n",
              "    </tr>\n",
              "  </tbody>\n",
              "</table>\n",
              "</div>"
            ],
            "text/plain": [
              "   gestation  birthweight  complication\n",
              "0        283     3.883884             0\n",
              "1        248     4.082331             0\n",
              "2        275     3.175146             0\n",
              "3        270     1.563774             1\n",
              "4        251     3.968933             0\n",
              "5        283     3.061748             0\n",
              "6        283     3.628739             0\n",
              "7        278     3.260195             0\n",
              "8        281     3.997282             0\n",
              "9        273     2.920001             0"
            ]
          },
          "execution_count": 4,
          "metadata": {},
          "output_type": "execute_result"
        }
      ],
      "source": [
        "df = pd.read_csv('birthData.txt', sep = ',', header = 0)    # Olvassuk be az adatokat egy Pandas DataFrame ojektumba\n",
        "df.head(10)                                                 # Irassuk ki az első 10 sort, hogy ellenőrizzük sikerült-e a beolvasás"
      ]
    },
    {
      "cell_type": "markdown",
      "metadata": {
        "id": "YZknH1IwIr41"
      },
      "source": [
        "## 02: Adatfelfedezés\n",
        "\n",
        "Új adthalmazzal történő első interrakció során érdemes azt először megvizsgálni, alapvető vizualizációkat ábrázolni, hogy legyen egy elsődleges \"benyomás\" az adatok jellegéről. Ábrázoljuk az adatokat egy X-Y diagrammon."
      ]
    },
    {
      "cell_type": "code",
      "execution_count": 5,
      "metadata": {
        "colab": {
          "base_uri": "https://localhost:8080/",
          "height": 565
        },
        "id": "TneiNrV5Ir42",
        "outputId": "25b48748-4a0d-4ae0-a08d-5ae0d2665954"
      },
      "outputs": [
        {
          "data": {
            "image/png": "[encoded data removed]",
            "text/plain": [
              "<Figure size 600x600 with 1 Axes>"
            ]
          },
          "metadata": {},
          "output_type": "display_data"
        }
      ],
      "source": [
        "# Formális vizualizáció MatPlotLib-el\n",
        "plt.figure(figsize=(6, 6))\n",
        "\n",
        "plt.scatter(df[df['complication'] == 0]['gestation'], df[df['complication'] == 0]['birthweight'], marker='o',c=\"green\", label=\"Egészséges\")\n",
        "plt.scatter(df[df['complication'] == 1]['gestation'], df[df['complication'] == 1]['birthweight'], marker='x',c=\"tomato\", label=\"Komplikáció\")\n",
        "\n",
        "plt.title(\"Születés utáni komplikációk\")\n",
        "plt.xlabel(\"Terhességi napok száma\")\n",
        "plt.ylabel(\"Születési testtömeg [kg]\")\n",
        "plt.legend(loc='lower right')\n",
        "\n",
        "plt.show()"
      ]
    },
    {
      "cell_type": "markdown",
      "metadata": {
        "id": "WV7c9b-2Ir43"
      },
      "source": [
        "Ez alapján látható, hogy igen nehéz lenne egy egyenes segítségével egy jó határvonalat illeszteni az adatokra, mindenképpen magasabb rendű modellt kell alkalmaznunk."
      ]
    },
    {
      "cell_type": "markdown",
      "metadata": {
        "id": "jFk3oVAKIr43"
      },
      "source": [
        "## 03: Adatok előkészítése\n",
        "\n",
        "A beolvasott pandas adattáblából a tanító bementeket és kimeneteket mátrixokba rendezzük."
      ]
    },
    {
      "cell_type": "code",
      "execution_count": 6,
      "metadata": {
        "colab": {
          "base_uri": "https://localhost:8080/"
        },
        "id": "vjdRwRbpIr44",
        "outputId": "b7a802a3-27e7-41ce-c49c-b002fb0109d6"
      },
      "outputs": [
        {
          "name": "stdout",
          "output_type": "stream",
          "text": [
            "X: (1350, 2)\n",
            "Y: (1350, 1)\n",
            "Adatok száma 1350\n",
            "Változók (Feature) száma: 2\n"
          ]
        }
      ],
      "source": [
        "X = df[['gestation', 'birthweight']].to_numpy()   # Bemeneti változók oszlopainak kiemelése és tömmbé konvertálása\n",
        "Y = df[['complication']].to_numpy()               # Kimeneti változó oszlopának kiemelése és tömmbé konvertálása\n",
        "\n",
        "m,n = X.shape   \n",
        "print('X:',X.shape)                               # adattömbök méretének / adatok számának kiírása\n",
        "print('Y:',Y.shape)\n",
        "print('Adatok száma',m)\n",
        "print('Változók (Feature) száma:',n)"
      ]
    },
    {
      "cell_type": "markdown",
      "metadata": {
        "id": "VQaURM9_Ir44"
      },
      "source": [
        "A polinomiális regresszió alkalmazásához a bementi adatmátrixunkat ki kell egészítenünk az adatok magasabb rendű kombinációival. Harmadrendű polinom esetén:\n",
        "$$x_1,\\  x_2 \\Rightarrow\\ 1,\\ x_1,\\ x_2,\\ x_1^2,\\ x_1x_2,\\ x_2^2,\\ x_1^3,\\ x_1^2x_2,\\ x_1x_2^2,\\ x_2^3$$\n",
        "\n",
        "**Feladat:** implementálja a ```mapFeatures()``` függvényt, amely a **két** bemeneti változó alapján legenerálja a teljes bementei mátrixot tetszőleges fokszám esetére!"
      ]
    },
    {
      "cell_type": "code",
      "execution_count": 7,
      "metadata": {
        "id": "vrHOuIWOIr45"
      },
      "outputs": [],
      "source": [
        "def mapFeatures(X, deg = 3):                         \n",
        "# Bemeneti változók létrehozása polinomiális regresszióhoz\n",
        "#######################################################\n",
        "  if X.shape[1] == 2:\n",
        "    features = []\n",
        "    x1 = X [:,0:1] # az indexelés azért így, hogy mátrixok legyenek\n",
        "    x2 = X [:,1:]\n",
        "\n",
        "    for i in range(deg+1):\n",
        "      for pow in range(i+1):\n",
        "        features += [x1**(i-pow) * x2**pow]\n",
        "      out = np.hstack(features)\n",
        "  else:\n",
        "    raise ValueError(\"Az X bemenet nem 2 változós!\")\n",
        "  \n",
        "#######################################################            \n",
        "  return out"
      ]
    },
    {
      "cell_type": "code",
      "execution_count": 8,
      "metadata": {
        "colab": {
          "base_uri": "https://localhost:8080/"
        },
        "id": "AhdGXAqnIr46",
        "outputId": "17ace7d6-31ed-4052-df55-ac5874006f87"
      },
      "outputs": [
        {
          "name": "stdout",
          "output_type": "stream",
          "text": [
            "(1350, 21)\n"
          ]
        }
      ],
      "source": [
        "deg = 5                     # ötödrendű  polinom alkalmazása\n",
        "X=mapFeatures(X, deg)        # vátozók kibővítése \n",
        "if X.shape[1] != 21:        # ellenőrzés\n",
        "    print(\"Az X mátrixban található változók száma nem megfelelő. Ellenőrizze a featureNormalise() függvény implementációját!\")\n",
        "else:\n",
        "    print(X.shape)"
      ]
    },
    {
      "cell_type": "markdown",
      "metadata": {
        "id": "o7-9SCELIr46"
      },
      "source": [
        "Az újonnan előállított bemeneti adatokat természetesen normalizálnunk is kell (a bias változót leszámítva). Fontos, hogy ezt a kibővítés után tegyük meg. Ha először normalizálunk és aztán bővítünk, még mindig kaphatunk jelentősen eltérő angyságrendbe eső adatkat a bővítésénl alkalmazott magasabb hatványok miatt."
      ]
    },
    {
      "cell_type": "code",
      "execution_count": 9,
      "metadata": {
        "colab": {
          "base_uri": "https://localhost:8080/"
        },
        "id": "-MKMrI8eIr47",
        "outputId": "88b7fa9c-be46-4281-a4e8-82089cb1749c"
      },
      "outputs": [
        {
          "name": "stdout",
          "output_type": "stream",
          "text": [
            "Bementei adatok normalizálása ... \n",
            "\n",
            "Átlagos terhességhossz és születési testtömeg: [277.92962963   3.24107755]\n",
            "Terhességhossz és születési testtömeg szórása: [20.18052444  0.67791765] \n",
            "\n"
          ]
        }
      ],
      "source": [
        "def featureNormalize(Z): \n",
        "    mean = np.mean(Z, axis = 0)\n",
        "    mean[0] = 0     #azért, hogy az 1-es oszlopot ne változtassa meg\n",
        "    sigma = np.std(Z, axis = 0)\n",
        "    sigma[0] = 1    #azért, hogy az 1-es oszlopot ne változtassa meg\n",
        "    Z_norm = (Z-mean)/sigma\n",
        "    return Z_norm, mean, sigma                            \n",
        "\n",
        "print('Bementei adatok normalizálása ... \\n')                    \n",
        "X,Xmean,Xsigma = featureNormalize(X)                      # X standardizálása\n",
        "scaleFactors = {\"Xmean\" : Xmean, \"Xsigma\" : Xsigma}\n",
        "print('Átlagos terhességhossz és születési testtömeg:', Xmean[1:3])\n",
        "print('Terhességhossz és születési testtömeg szórása:', Xsigma[1:3], '\\n')"
      ]
    },
    {
      "cell_type": "markdown",
      "metadata": {
        "id": "fikng_nQIr48"
      },
      "source": [
        "## 04: Modell definiálása\n",
        "\n",
        "Az adatok előkészítése utáni következő lépés a modell és tanítási logika definiálása."
      ]
    },
    {
      "cell_type": "code",
      "execution_count": 10,
      "metadata": {
        "id": "rX2BOrpmIr48"
      },
      "outputs": [],
      "source": [
        "# Szigmoid aktivációs függvény\n",
        "def sigmoid(z):              \n",
        "    return 1/(1+np.exp(-z))                              "
      ]
    },
    {
      "cell_type": "markdown",
      "metadata": {
        "id": "iJPFFwBmIr49"
      },
      "source": [
        "Bár a regularizáció miatt eltérő a tényleges költségfüggvény ami minimalizálásra kerül, a különböző illesztések összehasonlíthatóságának érdekében a modell értékelésére az eredeti **BCE** költségfüggvényt használjuk. Így a tanítás során a költségfüggvény alakulása a tényleges illesztés jóságát fogja visszaadni a modellek értékelésére."
      ]
    },
    {
      "cell_type": "code",
      "execution_count": 11,
      "metadata": {
        "id": "-Zzx3IA-Ir49"
      },
      "outputs": [],
      "source": [
        "# Költségfüggvény\n",
        "def costBCE(X,Y,W):\n",
        "   eps = 1e-15    \n",
        "   yHat = sigmoid(X@W)\n",
        "   m = Y.shape[0]\n",
        "   C = np.mean((-Y*np.log(yHat+eps))-(1-Y)*np.log(1-yHat+eps))\n",
        "   return C"
      ]
    },
    {
      "cell_type": "markdown",
      "metadata": {
        "id": "9bKR8xZTIr4-"
      },
      "source": [
        "A gradiensvektor számolása esetén azonban már figyelembe kell vennünk a regularizációt.\n",
        "\n",
        "**Feladat:** implementálja a gradiensvektor számítását, amely a 'regu' pareméter értékétől függően (```'None', 'L1', 'L2'```) a megfelelő gradiensvektorral tér vissza!"
      ]
    },
    {
      "cell_type": "code",
      "execution_count": 12,
      "metadata": {
        "id": "hfyxmsNSIr4_"
      },
      "outputs": [],
      "source": [
        "# Gradiensvektor\n",
        "def findGradient(X,Y,W, lmbd, regu):    \n",
        "#######################################################   \n",
        "  m = X.shape[0]\n",
        "  grad = 1/m * X.T@(sigmoid(X@W)-Y)\n",
        "\n",
        "  regu_options = {'None': 0, 'L1': 1, 'L2': 2 }\n",
        "  i = regu_options.get(regu)\n",
        "\n",
        "  d_regu = [0, np.sign(W), W]\n",
        "  d_regu[0,1:2] = 0\n",
        "  grad = grad + lmbd * d_regu[i]\n",
        "  \n",
        "#######################################################\n",
        "  return grad"
      ]
    },
    {
      "cell_type": "code",
      "execution_count": 13,
      "metadata": {
        "colab": {
          "base_uri": "https://localhost:8080/"
        },
        "id": "mW_Z59lUIr4_",
        "outputId": "98d3e501-27ad-4e50-8c00-4c36b3ffdd54"
      },
      "outputs": [
        {
          "name": "stdout",
          "output_type": "stream",
          "text": [
            "Az modell első három súlyára (bias, X1, X2) vonatkozó gradiensek \n",
            "elvárt értékei regularizáció nélkül, illetve L1 és L2 regularizáció mellett:\n",
            "[[0.68212698]\n",
            " [0.13627374]\n",
            " [0.16772988]]\n",
            "[[ 0.68212698]\n",
            " [ 1.13627374]\n",
            " [-0.83227012]]\n",
            "[[ 0.68212698]\n",
            " [ 1.01057374]\n",
            " [-0.45577012]]\n",
            "\n",
            "Ugyanezen esetekre a számolt gradiens:\n"
          ]
        },
        {
          "ename": "TypeError",
          "evalue": "list indices must be integers or slices, not tuple",
          "output_type": "error",
          "traceback": [
            "\u001b[1;31m---------------------------------------------------------------------------\u001b[0m",
            "\u001b[1;31mTypeError\u001b[0m                                 Traceback (most recent call last)",
            "Cell \u001b[1;32mIn[13], line 16\u001b[0m\n\u001b[0;32m     14\u001b[0m \u001b[38;5;28mprint\u001b[39m(\u001b[38;5;124m'''\u001b[39m\u001b[38;5;124mUgyanezen esetekre a számolt gradiens:\u001b[39m\u001b[38;5;124m'''\u001b[39m)\n\u001b[0;32m     15\u001b[0m W \u001b[38;5;241m=\u001b[39m np\u001b[38;5;241m.\u001b[39marray([[\u001b[38;5;241m1.645\u001b[39m], [\u001b[38;5;241m0.8743\u001b[39m], [\u001b[38;5;241m-\u001b[39m\u001b[38;5;241m0.6235\u001b[39m]])\n\u001b[1;32m---> 16\u001b[0m \u001b[38;5;28mprint\u001b[39m(\u001b[43mfindGradient\u001b[49m\u001b[43m(\u001b[49m\u001b[43mX\u001b[49m\u001b[43m[\u001b[49m\u001b[43m:\u001b[49m\u001b[43m,\u001b[49m\u001b[43m:\u001b[49m\u001b[38;5;241;43m3\u001b[39;49m\u001b[43m]\u001b[49m\u001b[43m,\u001b[49m\u001b[43m \u001b[49m\u001b[43mY\u001b[49m\u001b[43m,\u001b[49m\u001b[43m \u001b[49m\u001b[43mW\u001b[49m\u001b[43m,\u001b[49m\u001b[43m \u001b[49m\u001b[43mlmbd\u001b[49m\u001b[43m \u001b[49m\u001b[38;5;241;43m=\u001b[39;49m\u001b[43m \u001b[49m\u001b[38;5;241;43m1\u001b[39;49m\u001b[43m,\u001b[49m\u001b[43m \u001b[49m\u001b[43mregu\u001b[49m\u001b[38;5;241;43m=\u001b[39;49m\u001b[38;5;124;43m'\u001b[39;49m\u001b[38;5;124;43mNone\u001b[39;49m\u001b[38;5;124;43m'\u001b[39;49m\u001b[43m)\u001b[49m)\n\u001b[0;32m     17\u001b[0m \u001b[38;5;28mprint\u001b[39m(findGradient(X[:,:\u001b[38;5;241m3\u001b[39m], Y, W, lmbd \u001b[38;5;241m=\u001b[39m \u001b[38;5;241m1\u001b[39m, regu\u001b[38;5;241m=\u001b[39m\u001b[38;5;124m'\u001b[39m\u001b[38;5;124mL1\u001b[39m\u001b[38;5;124m'\u001b[39m))\n\u001b[0;32m     18\u001b[0m \u001b[38;5;28mprint\u001b[39m(findGradient(X[:,:\u001b[38;5;241m3\u001b[39m], Y, W, lmbd \u001b[38;5;241m=\u001b[39m \u001b[38;5;241m1\u001b[39m, regu\u001b[38;5;241m=\u001b[39m\u001b[38;5;124m'\u001b[39m\u001b[38;5;124mL2\u001b[39m\u001b[38;5;124m'\u001b[39m))\n",
            "Cell \u001b[1;32mIn[12], line 11\u001b[0m, in \u001b[0;36mfindGradient\u001b[1;34m(X, Y, W, lmbd, regu)\u001b[0m\n\u001b[0;32m      8\u001b[0m   i \u001b[38;5;241m=\u001b[39m regu_options\u001b[38;5;241m.\u001b[39mget(regu)\n\u001b[0;32m     10\u001b[0m   d_regu \u001b[38;5;241m=\u001b[39m [\u001b[38;5;241m0\u001b[39m, np\u001b[38;5;241m.\u001b[39msign(W), W]\n\u001b[1;32m---> 11\u001b[0m   \u001b[43md_regu\u001b[49m\u001b[43m[\u001b[49m\u001b[38;5;241;43m0\u001b[39;49m\u001b[43m,\u001b[49m\u001b[38;5;241;43m1\u001b[39;49m\u001b[43m:\u001b[49m\u001b[38;5;241;43m2\u001b[39;49m\u001b[43m]\u001b[49m \u001b[38;5;241m=\u001b[39m \u001b[38;5;241m0\u001b[39m\n\u001b[0;32m     12\u001b[0m   grad \u001b[38;5;241m=\u001b[39m grad \u001b[38;5;241m+\u001b[39m lmbd \u001b[38;5;241m*\u001b[39m d_regu[i]\n\u001b[0;32m     14\u001b[0m \u001b[38;5;66;03m#######################################################\u001b[39;00m\n",
            "\u001b[1;31mTypeError\u001b[0m: list indices must be integers or slices, not tuple"
          ]
        }
      ],
      "source": [
        "# Regularizált gradiensek tesztelése\n",
        "print('''Az modell első három súlyára (bias, X1, X2) vonatkozó gradiensek \n",
        "elvárt értékei regularizáció nélkül, illetve L1 és L2 regularizáció mellett:\n",
        "[[0.68212698]\n",
        " [0.13627374]\n",
        " [0.16772988]]\n",
        "[[ 0.68212698]\n",
        " [ 1.13627374]\n",
        " [-0.83227012]]\n",
        "[[ 0.68212698]\n",
        " [ 1.01057374]\n",
        " [-0.45577012]]''')\n",
        "print()\n",
        "print('''Ugyanezen esetekre a számolt gradiens:''')\n",
        "W = np.array([[1.645], [0.8743], [-0.6235]])\n",
        "print(findGradient(X[:,:3], Y, W, lmbd = 1, regu='None'))\n",
        "print(findGradient(X[:,:3], Y, W, lmbd = 1, regu='L1'))\n",
        "print(findGradient(X[:,:3], Y, W, lmbd = 1, regu='L2'))"
      ]
    },
    {
      "cell_type": "markdown",
      "metadata": {
        "id": "IyTD9oUrIr5A"
      },
      "source": [
        "A regularizált polinomiális logisztikus regresszió implementálásának utolsó eleme az iterciós logika implementálása a megflelő regularizációt tartalamazó gradinesekkel.\n",
        "\n",
        "**Feladat:** Készítse el a regularizált logisztikus regresszió problémájat gradiens módszerrel megoldó algoritmust! Az algoritmus számolja ki a kezdeti, majd minden iteráció utáni költéségfüggvény értéket is!"
      ]
    },
    {
      "cell_type": "code",
      "execution_count": null,
      "metadata": {
        "id": "zf_5ABXsIr5B"
      },
      "outputs": [],
      "source": [
        "def logisticGradientDescent(X, Y, W, learning_rate, epochs, lmbd, regu = 'None'):\n",
        "    C_history = np.zeros(epochs+1)\n",
        "    C_history[0] = costBCE(X,Y,W)\n",
        "######################################################\n",
        "    \n",
        "    for i in range(epochs):\n",
        "        grad = 1/m*np.transpose(X)@(sigmoid(X@W)-Y)\n",
        "        W = W-learning_rate*grad\n",
        "        C_history[i+1] = costBCE(X,Y,W)\n",
        "    \n",
        "    \n",
        "######################################################\n",
        "    return W,C_history"
      ]
    },
    {
      "cell_type": "markdown",
      "metadata": {
        "id": "KzTlDhQWIr5B"
      },
      "source": [
        "A modell viselkedésének elemzéséhez futtassuk le a tanítást azonos paraméterek mellett mindhárom regularizációs módszerrel:"
      ]
    },
    {
      "cell_type": "code",
      "execution_count": null,
      "metadata": {
        "colab": {
          "base_uri": "https://localhost:8080/",
          "height": 490
        },
        "id": "JJk66AwkIr5C",
        "outputId": "bb47b3b9-08f9-4d3a-98cd-682172b24565"
      },
      "outputs": [],
      "source": [
        "print('Gradiens algoritmus futtatása ...')\n",
        "epochs = 250           # epoch szám\n",
        "lmbd = 0.02             # Lambda (regularizáció súlya)\n",
        "learning_rate = 0.5     # tanulási ráta\n",
        "W = np.zeros([X.shape[1],1])  # kezdeti zérus súlyok (0;0;0)\n",
        "\n",
        "W_n, C_history_n = logisticGradientDescent(X, Y, W, learning_rate, epochs, lmbd, 'None')                             \n",
        "plt.plot(range(C_history_n.size), C_history_n, label= \"No regularization\", c=\"red\")\n",
        "                                                       \n",
        "W_L1, C_history_L1 = logisticGradientDescent(X, Y, W, learning_rate, epochs, lmbd, 'L1')                             \n",
        "plt.plot(range(C_history_L1.size), C_history_L1, label= \"L1 regularization\", c=\"green\")\n",
        "\n",
        "W_L2, C_history_L2 = logisticGradientDescent(X, Y, W, learning_rate, epochs, lmbd, 'L2')\n",
        "plt.plot(range(C_history_L2.size), C_history_L2, label= \"L2 regularization\", c=\"blue\")              \n",
        "\n",
        "plt.title(\"Különböző regularizációk hatása a költségre\")\n",
        "plt.xlabel(\"Iteráció\")\n",
        "plt.ylabel(\"BCE költség\")\n",
        "plt.legend()\n",
        "plt.show()"
      ]
    },
    {
      "attachments": {},
      "cell_type": "markdown",
      "metadata": {
        "id": "MIQ2LV2aIr5D"
      },
      "source": [
        "Az modellünk alkalmazhatóságához és az illesztés vizsgálatához szükségünk lesz a predict függvényre, amely adott valós bemenetre (terhesség hossza napokban és újszülött súlya kilogrammban) visszatér a komplikáció valószínűségével.\n",
        "\n",
        "**Feladat**: implementálja a predict függvényt a regularizált polinomiális logisztikus regresszió esetére! Ügyeljen rá, hogy a bemeneteket most is ki kell bővíteni és normalizálni, miellőtt a valószínűség becsülhető."
      ]
    },
    {
      "cell_type": "code",
      "execution_count": null,
      "metadata": {
        "colab": {
          "base_uri": "https://localhost:8080/"
        },
        "id": "hUMSz7xAIr5D",
        "outputId": "1440a37a-94dc-42ba-dc9d-3cef2eec4144"
      },
      "outputs": [],
      "source": [
        "def predict(X, W, deg, scaleFactors):              # predikciós függvény\n",
        "###########################################    \n",
        "   \n",
        "   \n",
        "\n",
        "   \n",
        "   \n",
        "###########################################    \n",
        "   return prob, pred                                    \n",
        "\n",
        "testScore = np.array([312,3.176])\n",
        "prob, pred = predict(testScore, W_n, deg, scaleFactors)            # 312 nap terhesség után 3,176 kg-al született baba komplikációs valőszínűsége\n",
        "print('''A [312 , 3.176] teszteredményekre elvárt kimenet:\n",
        "Nincs komplikáció (0), p = 0.232 valószínűséggel\n",
        "Számított: %.0f; %.4f valószínűséggel''' % (pred, prob))"
      ]
    },
    {
      "cell_type": "code",
      "execution_count": null,
      "metadata": {
        "colab": {
          "base_uri": "https://localhost:8080/",
          "height": 565
        },
        "id": "mEjEL9j5Ir5E",
        "outputId": "ccd6a7b4-b19f-48d7-a32b-ee6de6a0273a"
      },
      "outputs": [],
      "source": [
        "# Formális vizualizáció MatPlotLib-el\n",
        "plt.figure(figsize=(6, 6))\n",
        "\n",
        "# Eredeti adatpontok ábrázolása\n",
        "plt.scatter(df[df['complication'] == 0]['gestation'], df[df['complication'] == 0]['birthweight'], marker='o',c=\"green\", label=\"Egészséges\")\n",
        "plt.scatter(df[df['complication'] == 1]['gestation'], df[df['complication'] == 1]['birthweight'], marker='x',c=\"tomato\", label=\"Komplikáció\")\n",
        "\n",
        "x1 = np.linspace(min(df['gestation'])-50, max(df['gestation']+10), 200)          # grid létrehozása\n",
        "x2 = np.linspace(min(df['birthweight'])-0.2, max(df['birthweight']+1.2), 200)    # második paraméter\n",
        "\n",
        "z_n=np.zeros((len(x1),len(x2)))                          # eredményváltozó 1 inicializálása\n",
        "z_L1=np.zeros((len(x1),len(x2)))                         # eredményváltozó 2  inicializálása\n",
        "z_L2=np.zeros((len(x1),len(x2)))                         # eredményváltozó 3  inicializálása\n",
        "\n",
        "for i in range(len(x1)):                                 # valószínűség számolása a teljes háló felett\n",
        "    for j in range(len(x2)):     \n",
        "        testPoint = np.array([x1[i], x2[j]])\n",
        "        z_n[i,j], _ = predict(testPoint, W_n, deg, scaleFactors)\n",
        "        z_L1[i,j], _ = predict(testPoint, W_L1, deg, scaleFactors)\n",
        "        z_L2[i,j], _ = predict(testPoint, W_L2, deg, scaleFactors)\n",
        "\n",
        "plt.contour(x1, x2,z_n.transpose(), 0, colors='red')                                  # kirajzoljuk contour plottal a döntési határt\n",
        "plt.contour(x1, x2, z_L1.transpose(), 0, colors='green')                                  # kirajzoljuk contour plottal a döntési határt\n",
        "plt.contour(x1, x2, z_L2.transpose(), 0, colors='blue')                                  # kirajzoljuk contour plottal a döntési határt\n",
        "\n",
        "plt.title(\"Születés utáni komplikációk\")\n",
        "plt.xlabel(\"Terhesség napjainak száma\")\n",
        "plt.ylabel(\"Születési testtömeg [kg]\")\n",
        "plt.legend(loc='lower right')\n",
        "\n",
        "plt.show()"
      ]
    },
    {
      "cell_type": "markdown",
      "metadata": {
        "id": "lKfYGP75Ir5F"
      },
      "source": [
        "A modell viselkedésének teljes megértése érdekében érdemes nem csak a döntési határt, hanem a teljes illesztett felületet is ábrázolnunk. A `z` paraméter változtatásával kiválaszthatjuk melyik modellt ábrázoljuk, így jobban megérthetjük a költségfüggvény alakulását is."
      ]
    },
    {
      "cell_type": "code",
      "execution_count": null,
      "metadata": {
        "colab": {
          "base_uri": "https://localhost:8080/",
          "height": 517
        },
        "id": "QVtJuGGPIr5F",
        "outputId": "bf5531c8-e1c1-4f0d-a9cf-92815099989c"
      },
      "outputs": [],
      "source": [
        "# Ábrázolás Plotly-val\n",
        "fig = go.Figure()\n",
        "\n",
        "# A magyarázott változót transzponálni kell a helyes megjelenítésért.\n",
        "fig.add_trace(go.Scatter3d(x=df['gestation'], y=df['birthweight'], z=df['complication'], mode= \"markers\"))\n",
        "fig.add_trace(go.Surface(x=x1, y=x2, z=z_n.T, colorscale ='Blues'))\n",
        "\n",
        "#Plot formázása\n",
        "fig.update_layout(\n",
        "    title = \"Felvétel esélyének becslése\",\n",
        "    scene = dict(\n",
        "        xaxis_title = \"Terhesség napjainak száma\",\n",
        "        yaxis_title = \"Születési testtömeg [kg]\",\n",
        "        zaxis_title = \"Komplikáció valószínűsége\"),\n",
        "    template=styleTemplate,\n",
        "    width=750,\n",
        "    height=500,\n",
        ")\n",
        "\n",
        "#Plot megjelenítése\n",
        "fig.show()"
      ]
    },
    {
      "cell_type": "markdown",
      "metadata": {
        "id": "E87gTKc9Ir5G"
      },
      "source": [
        "Az egyes regularizációs módszerek vizsgálatához nézzük meg, hogy a súlyok hogyan alakulnak az egyes módszerekkel:"
      ]
    },
    {
      "cell_type": "code",
      "execution_count": null,
      "metadata": {
        "colab": {
          "base_uri": "https://localhost:8080/"
        },
        "id": "NkQ3J2qMIr5H",
        "outputId": "5ea8d4bf-9cad-490d-c88e-2c40ef4e21b2"
      },
      "outputs": [],
      "source": [
        "print('''A modell végső súlyai regularizáció nélkül''')\n",
        "for (loc, value) in enumerate(W_n):\n",
        "    if value <0.1:\n",
        "        W_n[loc] = 0.0\n",
        "print(W_n)\n",
        "print()\n",
        "\n",
        "print('''A modell végső súlyai L1 regularizációval''')\n",
        "for (loc, value) in enumerate(W_L1):\n",
        "    if value <0.1:\n",
        "        W_L1[loc] = 0.0\n",
        "print(W_L1)\n",
        "print()\n",
        "\n",
        "print('''A modell végső súlyai L2 regularizációval''')\n",
        "for (loc, value) in enumerate(W_L2):\n",
        "    if value <0.1:\n",
        "        W_L2[loc] = 0.0\n",
        "print(W_L2)"
      ]
    }
  ],
  "metadata": {
    "colab": {
      "provenance": []
    },
    "kernelspec": {
      "display_name": "Python 3",
      "language": "python",
      "name": "python3"
    },
    "language_info": {
      "codemirror_mode": {
        "name": "ipython",
        "version": 3
      },
      "file_extension": ".py",
      "mimetype": "text/x-python",
      "name": "python",
      "nbconvert_exporter": "python",
      "pygments_lexer": "ipython3",
      "version": "3.11.5"
    },
    "orig_nbformat": 4
  },
  "nbformat": 4,
  "nbformat_minor": 0
}
